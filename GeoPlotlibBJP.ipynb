{
 "cells": [
  {
   "cell_type": "code",
   "execution_count": 66,
   "metadata": {},
   "outputs": [],
   "source": [
    "import geoplotlib\n",
    "from geoplotlib.utils import read_csv\n",
    "import pandas as pd\n",
    "import numpy as np\n",
    "import re\n",
    "from textblob import TextBlob"
   ]
  },
  {
   "cell_type": "code",
   "execution_count": 84,
   "metadata": {},
   "outputs": [],
   "source": [
    "df = pd.read_json(r'E:\\Data Science Projects\\Election Prediction\\BJP Map\\bjp.json',lines=True)\n",
    "list_of_cities = pd.read_csv(r'E:\\Data Science Projects\\Data\\inlocal.csv') "
   ]
  },
  {
   "cell_type": "code",
   "execution_count": 85,
   "metadata": {},
   "outputs": [],
   "source": [
    "dic = dict(list_of_cities)"
   ]
  },
  {
   "cell_type": "code",
   "execution_count": 118,
   "metadata": {},
   "outputs": [],
   "source": [
    "text = []\n",
    "\n",
    "for x in df['full_text']:\n",
    "    text.append(x)"
   ]
  },
  {
   "cell_type": "code",
   "execution_count": 87,
   "metadata": {},
   "outputs": [
    {
     "data": {
      "text/plain": [
       "'Delhi| Uttar Pradesh'"
      ]
     },
     "execution_count": 87,
     "metadata": {},
     "output_type": "execute_result"
    }
   ],
   "source": [
    "df.user[0]['location']"
   ]
  },
  {
   "cell_type": "code",
   "execution_count": 88,
   "metadata": {},
   "outputs": [
    {
     "data": {
      "text/plain": [
       "['Delhi| Uttar Pradesh',\n",
       " 'India',\n",
       " 'Srinagar',\n",
       " 'New Delhi, India',\n",
       " 'BENGALURU',\n",
       " 'Kolkata-Jalpaiguri',\n",
       " 'Sir Alex Ferguson Stand',\n",
       " 'Jubilee Hills, Hyderabad',\n",
       " '',\n",
       " 'India']"
      ]
     },
     "execution_count": 88,
     "metadata": {},
     "output_type": "execute_result"
    }
   ],
   "source": [
    "locations=[]\n",
    "for x in range(len(df['user'])):\n",
    "    locations.append(df.user[x]['location'])\n",
    "\n",
    "locations[0:10]"
   ]
  },
  {
   "cell_type": "code",
   "execution_count": 89,
   "metadata": {},
   "outputs": [
    {
     "data": {
      "text/plain": [
       "['delhi|', 'india', 'srinagar', 'new delhi', 'bengaluru']"
      ]
     },
     "execution_count": 89,
     "metadata": {},
     "output_type": "execute_result"
    }
   ],
   "source": [
    "new_locations = []\n",
    "\n",
    "for location in locations:\n",
    "    if location.lower() == 'new delhi' or location.lower() == 'new delhi, india':\n",
    "        new_locations.append('new delhi')\n",
    "    else:\n",
    "        if len(location) != 0:\n",
    "            x = re.split(',|\\s',location)[0]\n",
    "            new_locations.append(x.lower())\n",
    "        else:\n",
    "            new_locations.append('')\n",
    "    \n",
    "new_locations[:5]"
   ]
  },
  {
   "cell_type": "code",
   "execution_count": 90,
   "metadata": {},
   "outputs": [],
   "source": [
    "lat = []\n",
    "lon = []\n",
    "final_text= []\n",
    "final_location = []\n",
    "for count in range(len(new_locations)):\n",
    "    for x in range(len(dic['city'])):\n",
    "        if new_locations[count].lower() == dic['city'][x].lower():\n",
    "            lat.append(dic['lat'][x])\n",
    "            lon.append(dic['lon'][x])\n",
    "            final_text.append(text[count])\n",
    "            final_location.append(new_locations[count])"
   ]
  },
  {
   "cell_type": "code",
   "execution_count": 91,
   "metadata": {},
   "outputs": [
    {
     "data": {
      "text/plain": [
       "9039"
      ]
     },
     "execution_count": 91,
     "metadata": {},
     "output_type": "execute_result"
    }
   ],
   "source": [
    "len(final_text)"
   ]
  },
  {
   "cell_type": "code",
   "execution_count": 92,
   "metadata": {},
   "outputs": [],
   "source": [
    "sentiment = []\n",
    "for text in final_text:\n",
    "    blob = TextBlob(text)\n",
    "    pol = blob.sentiment.polarity\n",
    "    if pol < 0:\n",
    "        sentiment.append('Negative')\n",
    "    elif pol == 0:\n",
    "        sentiment.append('Neutral')\n",
    "    else:\n",
    "        sentiment.append('Positive')"
   ]
  },
  {
   "cell_type": "code",
   "execution_count": 116,
   "metadata": {},
   "outputs": [
    {
     "data": {
      "text/plain": [
       "9039"
      ]
     },
     "execution_count": 116,
     "metadata": {},
     "output_type": "execute_result"
    }
   ],
   "source": [
    "final_lat_lon = pd.DataFrame([final_text,final_location,lat,lon]).T\n",
    "len(final_lat_lon)"
   ]
  },
  {
   "cell_type": "code",
   "execution_count": 94,
   "metadata": {},
   "outputs": [
    {
     "data": {
      "text/html": [
       "<div>\n",
       "<style scoped>\n",
       "    .dataframe tbody tr th:only-of-type {\n",
       "        vertical-align: middle;\n",
       "    }\n",
       "\n",
       "    .dataframe tbody tr th {\n",
       "        vertical-align: top;\n",
       "    }\n",
       "\n",
       "    .dataframe thead th {\n",
       "        text-align: right;\n",
       "    }\n",
       "</style>\n",
       "<table border=\"1\" class=\"dataframe\">\n",
       "  <thead>\n",
       "    <tr style=\"text-align: right;\">\n",
       "      <th></th>\n",
       "      <th>0</th>\n",
       "      <th>1</th>\n",
       "      <th>2</th>\n",
       "      <th>3</th>\n",
       "    </tr>\n",
       "  </thead>\n",
       "  <tbody>\n",
       "    <tr>\n",
       "      <th>0</th>\n",
       "      <td>Congress helping #BJP by dividing secular vote...</td>\n",
       "      <td>srinagar</td>\n",
       "      <td>34.1</td>\n",
       "      <td>74.815</td>\n",
       "    </tr>\n",
       "    <tr>\n",
       "      <th>1</th>\n",
       "      <td>RT @abpnewstv: #BJP 'imported' Hans Raj Hans a...</td>\n",
       "      <td>new delhi</td>\n",
       "      <td>28.6</td>\n",
       "      <td>77.2</td>\n",
       "    </tr>\n",
       "    <tr>\n",
       "      <th>2</th>\n",
       "      <td>@KplLdja @GorwayGlobal UP gave Huge  mandate t...</td>\n",
       "      <td>mumbai</td>\n",
       "      <td>19.017</td>\n",
       "      <td>72.857</td>\n",
       "    </tr>\n",
       "    <tr>\n",
       "      <th>3</th>\n",
       "      <td>People should vote for BJP if they want peace:...</td>\n",
       "      <td>hyderabad</td>\n",
       "      <td>17.4</td>\n",
       "      <td>78.48</td>\n",
       "    </tr>\n",
       "    <tr>\n",
       "      <th>4</th>\n",
       "      <td>#Delhi : Union Minister &amp;amp; Chandni Chowk's ...</td>\n",
       "      <td>new delhi</td>\n",
       "      <td>28.6</td>\n",
       "      <td>77.2</td>\n",
       "    </tr>\n",
       "  </tbody>\n",
       "</table>\n",
       "</div>"
      ],
      "text/plain": [
       "                                                   0          1       2  \\\n",
       "0  Congress helping #BJP by dividing secular vote...   srinagar    34.1   \n",
       "1  RT @abpnewstv: #BJP 'imported' Hans Raj Hans a...  new delhi    28.6   \n",
       "2  @KplLdja @GorwayGlobal UP gave Huge  mandate t...     mumbai  19.017   \n",
       "3  People should vote for BJP if they want peace:...  hyderabad    17.4   \n",
       "4  #Delhi : Union Minister &amp; Chandni Chowk's ...  new delhi    28.6   \n",
       "\n",
       "        3  \n",
       "0  74.815  \n",
       "1    77.2  \n",
       "2  72.857  \n",
       "3   78.48  \n",
       "4    77.2  "
      ]
     },
     "execution_count": 94,
     "metadata": {},
     "output_type": "execute_result"
    }
   ],
   "source": [
    "final_lat_lon.head()"
   ]
  },
  {
   "cell_type": "code",
   "execution_count": 130,
   "metadata": {},
   "outputs": [],
   "source": [
    "final_lat_lon.to_csv(r'E:\\Data Science Projects\\Election Prediction\\BJP Map\\bjplatlon.csv')"
   ]
  },
  {
   "cell_type": "code",
   "execution_count": null,
   "metadata": {},
   "outputs": [],
   "source": [
    "data = pd.read_csv(r'E:\\Data Science Projects\\Election Prediction\\BJP Map\\bjplatlon.csv',encoding='latin')\n",
    "geoplotlib.dot(data)\n",
    "geoplotlib.show()"
   ]
  },
  {
   "cell_type": "code",
   "execution_count": 117,
   "metadata": {},
   "outputs": [
    {
     "data": {
      "text/plain": [
       "118"
      ]
     },
     "execution_count": 117,
     "metadata": {},
     "output_type": "execute_result"
    }
   ],
   "source": [
    "len(text)"
   ]
  },
  {
   "cell_type": "code",
   "execution_count": 124,
   "metadata": {},
   "outputs": [],
   "source": [
    "pos_text = []\n",
    "pos_sentiment = []\n",
    "pos_final_location = []\n",
    "pos_lat = []\n",
    "pos_lon = []\n",
    "\n",
    "for count in range(len(final_text)):\n",
    "    if sentiment[count] == 'Positive':\n",
    "        pos_text.append(text[count])\n",
    "        pos_sentiment.append('Positive')\n",
    "        pos_final_location.append(final_location[count])\n",
    "        pos_lat.append(lat[count])\n",
    "        pos_lon.append(lon[count])"
   ]
  },
  {
   "cell_type": "code",
   "execution_count": 125,
   "metadata": {},
   "outputs": [
    {
     "data": {
      "text/plain": [
       "2828"
      ]
     },
     "execution_count": 125,
     "metadata": {},
     "output_type": "execute_result"
    }
   ],
   "source": [
    "len(pos_lat)"
   ]
  },
  {
   "cell_type": "code",
   "execution_count": 126,
   "metadata": {},
   "outputs": [],
   "source": [
    "pos_lat_lon = pd.DataFrame([pos_text,pos_sentiment,pos_final_location,pos_lat,pos_lon]).T"
   ]
  },
  {
   "cell_type": "code",
   "execution_count": 127,
   "metadata": {},
   "outputs": [],
   "source": [
    "pos_lat_lon.to_csv(r'E:\\Data Science Projects\\Election Prediction\\BJP Map\\bjpposlatlon.csv')"
   ]
  },
  {
   "cell_type": "code",
   "execution_count": 129,
   "metadata": {},
   "outputs": [],
   "source": [
    "data1 = pd.read_csv(r'E:\\Data Science Projects\\Election Prediction\\BJP Map\\bjpposlatlon.csv',encoding='latin')\n",
    "geoplotlib.dot(data1)\n",
    "geoplotlib.show()"
   ]
  },
  {
   "cell_type": "code",
   "execution_count": null,
   "metadata": {},
   "outputs": [],
   "source": []
  }
 ],
 "metadata": {
  "kernelspec": {
   "display_name": "Python 3",
   "language": "python",
   "name": "python3"
  },
  "language_info": {
   "codemirror_mode": {
    "name": "ipython",
    "version": 3
   },
   "file_extension": ".py",
   "mimetype": "text/x-python",
   "name": "python",
   "nbconvert_exporter": "python",
   "pygments_lexer": "ipython3",
   "version": "3.7.3"
  }
 },
 "nbformat": 4,
 "nbformat_minor": 2
}
