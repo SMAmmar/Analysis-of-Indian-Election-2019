{
 "cells": [
  {
   "cell_type": "code",
   "execution_count": 1,
   "metadata": {},
   "outputs": [],
   "source": [
    "from textblob import TextBlob\n",
    "import pandas as pd\n",
    "import matplotlib.mlab as mlab\n",
    "import matplotlib.pyplot as plt\n",
    "import numpy as np\n",
    "%matplotlib inline"
   ]
  },
  {
   "cell_type": "code",
   "execution_count": 2,
   "metadata": {},
   "outputs": [],
   "source": [
    "df = pd.read_json(r'C:\\Users\\Usman\\Desktop\\Project\\bjp.json',lines=True)"
   ]
  },
  {
   "cell_type": "code",
   "execution_count": 3,
   "metadata": {},
   "outputs": [],
   "source": [
    "text = []\n",
    "\n",
    "for x in df['full_text']:\n",
    "    text.append(x)"
   ]
  },
  {
   "cell_type": "code",
   "execution_count": 7,
   "metadata": {},
   "outputs": [],
   "source": [
    "sentiment = []\n",
    "pos_tweet = 0\n",
    "neg_tweet = 0\n",
    "neu_tweet = 0\n",
    "for x in text:\n",
    "    blob = TextBlob(x)\n",
    "    pol = blob.sentiment.polarity\n",
    "    if pol < 0:\n",
    "        sentiment.append('Negative')\n",
    "        neg_tweet = neg_tweet + 1\n",
    "    elif pol == 0:\n",
    "        sentiment.append('Neutral')\n",
    "        neu_tweet = neu_tweet + 1\n",
    "    else:\n",
    "        sentiment.append('Positive')\n",
    "        pos_tweet = pos_tweet + 1\n",
    "        \n",
    "abc = pd.DataFrame(sentiment,text)"
   ]
  },
  {
   "cell_type": "code",
   "execution_count": 8,
   "metadata": {},
   "outputs": [
    {
     "data": {
      "text/html": [
       "<div>\n",
       "<style scoped>\n",
       "    .dataframe tbody tr th:only-of-type {\n",
       "        vertical-align: middle;\n",
       "    }\n",
       "\n",
       "    .dataframe tbody tr th {\n",
       "        vertical-align: top;\n",
       "    }\n",
       "\n",
       "    .dataframe thead th {\n",
       "        text-align: right;\n",
       "    }\n",
       "</style>\n",
       "<table border=\"1\" class=\"dataframe\">\n",
       "  <thead>\n",
       "    <tr style=\"text-align: right;\">\n",
       "      <th></th>\n",
       "      <th>0</th>\n",
       "    </tr>\n",
       "  </thead>\n",
       "  <tbody>\n",
       "    <tr>\n",
       "      <th>It's always better to give ticket to popular faces of cinema rather giving it to a terrorist. \\n#SadhviPragyaSinghThakur \\n#BJP \\n#TMC \\n@M_Lekhi https://t.co/lVzWsFUYIZ</th>\n",
       "      <td>Positive</td>\n",
       "    </tr>\n",
       "    <tr>\n",
       "      <th>RT @Aagan86: Manjul Krishna Thakur, father of @BJP4Bengal candidate in Bongaon, says neither he nor his son have any association with the #…</th>\n",
       "      <td>Neutral</td>\n",
       "    </tr>\n",
       "    <tr>\n",
       "      <th>Congress helping #BJP by dividing secular votes of #Ladakh region, alleges PDP  \\n\\n#LokSabhaElections2019\\nhttps://t.co/dVXigtke1z</th>\n",
       "      <td>Neutral</td>\n",
       "    </tr>\n",
       "    <tr>\n",
       "      <th>RT @abpnewstv: #BJP 'imported' Hans Raj Hans as party thinks no one in #NorthWestDelhi is 'eligible' to contest polls: #ArvindKejriwal  htt…</th>\n",
       "      <td>Neutral</td>\n",
       "    </tr>\n",
       "    <tr>\n",
       "      <th>#BIGNEWS: #BJP President @AmitShah says the massive crowd in #Amethi have faith in PM @NarendraModi and #BJP is going to win the elections here. https://t.co/sDyCsYLy3Z</th>\n",
       "      <td>Positive</td>\n",
       "    </tr>\n",
       "  </tbody>\n",
       "</table>\n",
       "</div>"
      ],
      "text/plain": [
       "                                                           0\n",
       "It's always better to give ticket to popular fa...  Positive\n",
       "RT @Aagan86: Manjul Krishna Thakur, father of @...   Neutral\n",
       "Congress helping #BJP by dividing secular votes...   Neutral\n",
       "RT @abpnewstv: #BJP 'imported' Hans Raj Hans as...   Neutral\n",
       "#BIGNEWS: #BJP President @AmitShah says the mas...  Positive"
      ]
     },
     "execution_count": 8,
     "metadata": {},
     "output_type": "execute_result"
    }
   ],
   "source": [
    "abc.head()"
   ]
  },
  {
   "cell_type": "code",
   "execution_count": 9,
   "metadata": {},
   "outputs": [
    {
     "data": {
      "image/png": "[encoded data removed]",
      "text/plain": [
       "<Figure size 432x288 with 1 Axes>"
      ]
     },
     "metadata": {
      "needs_background": "light"
     },
     "output_type": "display_data"
    }
   ],
   "source": [
    "objects = ('Positive','Negative','Neutral')\n",
    "y_pos = np.arange(len(objects))\n",
    "performance = [pos_tweet,neg_tweet,neu_tweet]\n",
    "\n",
    "plt.bar(y_pos, performance, align='center', alpha=0.5)\n",
    "plt.xticks(y_pos, objects)\n",
    "plt.ylabel('frequency of Tweets')\n",
    "plt.title('BJP')\n",
    "\n",
    "plt.show()"
   ]
  },
  {
   "cell_type": "code",
   "execution_count": null,
   "metadata": {},
   "outputs": [],
   "source": []
  }
 ],
 "metadata": {
  "kernelspec": {
   "display_name": "Python 3",
   "language": "python",
   "name": "python3"
  },
  "language_info": {
   "codemirror_mode": {
    "name": "ipython",
    "version": 3
   },
   "file_extension": ".py",
   "mimetype": "text/x-python",
   "name": "python",
   "nbconvert_exporter": "python",
   "pygments_lexer": "ipython3",
   "version": "3.7.1"
  }
 },
 "nbformat": 4,
 "nbformat_minor": 2
}
