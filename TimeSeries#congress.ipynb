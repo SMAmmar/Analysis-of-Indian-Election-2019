{
 "cells": [
  {
   "cell_type": "code",
   "execution_count": 1,
   "metadata": {},
   "outputs": [],
   "source": [
    "import sys\n",
    "import json\n",
    "from datetime import datetime\n",
    "import matplotlib.pyplot as plt\n",
    "import matplotlib.dates as mdates\n",
    "import pandas as pd\n",
    "import numpy as np\n",
    "import pickle\n",
    "from pandas.plotting import register_matplotlib_converters\n",
    "register_matplotlib_converters()\n",
    "from textblob import TextBlob\n",
    "import seaborn as sns\n",
    "sns.set(rc={'figure.figsize':(11, 4)})"
   ]
  },
  {
   "cell_type": "code",
   "execution_count": 2,
   "metadata": {},
   "outputs": [],
   "source": [
    "import warnings\n",
    "import itertools\n",
    "import numpy as np\n",
    "import matplotlib.pyplot as plt\n",
    "warnings.filterwarnings(\"ignore\")\n",
    "plt.style.use('fivethirtyeight')\n",
    "import pandas as pd\n",
    "import statsmodels.api as sm\n",
    "import matplotlib\n",
    "matplotlib.rcParams['axes.labelsize'] = 14\n",
    "matplotlib.rcParams['xtick.labelsize'] = 12\n",
    "matplotlib.rcParams['ytick.labelsize'] = 12\n",
    "matplotlib.rcParams['text.color'] = 'k'"
   ]
  },
  {
   "cell_type": "code",
   "execution_count": 3,
   "metadata": {},
   "outputs": [],
   "source": [
    "df = pd.read_json(r'C:\\Users\\Usman\\Desktop\\Project\\congress.json', lines=True)"
   ]
  },
  {
   "cell_type": "code",
   "execution_count": 4,
   "metadata": {},
   "outputs": [],
   "source": [
    "text = []\n",
    "\n",
    "for x in df['full_text']:\n",
    "    text.append(x)\n",
    "    \n",
    "time = []\n",
    "\n",
    "for x in df['created_at']:\n",
    "    time.append(x)"
   ]
  },
  {
   "cell_type": "code",
   "execution_count": 5,
   "metadata": {},
   "outputs": [],
   "source": [
    "sentiment = []\n",
    "pos_tweet = 0\n",
    "neg_tweet = 0\n",
    "neu_tweet = 0\n",
    "for x in text:\n",
    "    blob = TextBlob(x)\n",
    "    pol = blob.sentiment.polarity\n",
    "    if pol < 0:\n",
    "        sentiment.append('Negative')\n",
    "        neg_tweet = neg_tweet + 1\n",
    "    elif pol == 0:\n",
    "        sentiment.append('Neutral')\n",
    "        neu_tweet = neu_tweet + 1\n",
    "    else:\n",
    "        sentiment.append('Positive')\n",
    "        pos_tweet = pos_tweet + 1\n",
    "        "
   ]
  },
  {
   "cell_type": "code",
   "execution_count": 6,
   "metadata": {},
   "outputs": [],
   "source": [
    "data = {'Text': text, \n",
    "        'Sentiment': sentiment,\n",
    "        'Created at': pd.to_datetime(time)}\n",
    "        \n",
    "Text_Time_Sentiment = pd.DataFrame(data)\n",
    "Text_Time_Sentiment['Created at'] = pd.to_datetime(Text_Time_Sentiment['Created at'])"
   ]
  },
  {
   "cell_type": "code",
   "execution_count": 7,
   "metadata": {},
   "outputs": [
    {
     "data": {
      "text/html": [
       "<div>\n",
       "<style scoped>\n",
       "    .dataframe tbody tr th:only-of-type {\n",
       "        vertical-align: middle;\n",
       "    }\n",
       "\n",
       "    .dataframe tbody tr th {\n",
       "        vertical-align: top;\n",
       "    }\n",
       "\n",
       "    .dataframe thead th {\n",
       "        text-align: right;\n",
       "    }\n",
       "</style>\n",
       "<table border=\"1\" class=\"dataframe\">\n",
       "  <thead>\n",
       "    <tr style=\"text-align: right;\">\n",
       "      <th></th>\n",
       "      <th>Text</th>\n",
       "      <th>Sentiment</th>\n",
       "      <th>Created at</th>\n",
       "    </tr>\n",
       "  </thead>\n",
       "  <tbody>\n",
       "    <tr>\n",
       "      <th>0</th>\n",
       "      <td>RT @PastorJohnHagee: I encourage you to join m...</td>\n",
       "      <td>Neutral</td>\n",
       "      <td>2019-05-02 14:12:48</td>\n",
       "    </tr>\n",
       "    <tr>\n",
       "      <th>1</th>\n",
       "      <td>RT @PastorJohnHagee: I encourage you to join m...</td>\n",
       "      <td>Neutral</td>\n",
       "      <td>2019-05-02 14:12:45</td>\n",
       "    </tr>\n",
       "    <tr>\n",
       "      <th>2</th>\n",
       "      <td>RT @IdeaGov: History is watching. Right now.\\n...</td>\n",
       "      <td>Positive</td>\n",
       "      <td>2019-05-02 14:12:41</td>\n",
       "    </tr>\n",
       "    <tr>\n",
       "      <th>3</th>\n",
       "      <td>@DavidCornDC I am positive the #GOPhers would ...</td>\n",
       "      <td>Positive</td>\n",
       "      <td>2019-05-02 14:12:15</td>\n",
       "    </tr>\n",
       "    <tr>\n",
       "      <th>4</th>\n",
       "      <td>Apparently #Congress #Democrats now recognize ...</td>\n",
       "      <td>Positive</td>\n",
       "      <td>2019-05-02 14:12:13</td>\n",
       "    </tr>\n",
       "  </tbody>\n",
       "</table>\n",
       "</div>"
      ],
      "text/plain": [
       "                                                Text Sentiment  \\\n",
       "0  RT @PastorJohnHagee: I encourage you to join m...   Neutral   \n",
       "1  RT @PastorJohnHagee: I encourage you to join m...   Neutral   \n",
       "2  RT @IdeaGov: History is watching. Right now.\\n...  Positive   \n",
       "3  @DavidCornDC I am positive the #GOPhers would ...  Positive   \n",
       "4  Apparently #Congress #Democrats now recognize ...  Positive   \n",
       "\n",
       "           Created at  \n",
       "0 2019-05-02 14:12:48  \n",
       "1 2019-05-02 14:12:45  \n",
       "2 2019-05-02 14:12:41  \n",
       "3 2019-05-02 14:12:15  \n",
       "4 2019-05-02 14:12:13  "
      ]
     },
     "execution_count": 7,
     "metadata": {},
     "output_type": "execute_result"
    }
   ],
   "source": [
    "Text_Time_Sentiment.head()"
   ]
  },
  {
   "cell_type": "code",
   "execution_count": 8,
   "metadata": {},
   "outputs": [
    {
     "data": {
      "text/plain": [
       "0    02\n",
       "1    02\n",
       "2    02\n",
       "3    02\n",
       "4    02\n",
       "Name: Created at, dtype: object"
      ]
     },
     "execution_count": 8,
     "metadata": {},
     "output_type": "execute_result"
    }
   ],
   "source": [
    "Text_Time_Sentiment['Created at'].dt.strftime('%d')[:5]"
   ]
  },
  {
   "cell_type": "code",
   "execution_count": 9,
   "metadata": {},
   "outputs": [
    {
     "data": {
      "text/plain": [
       "<matplotlib.axes._subplots.AxesSubplot at 0x36616470>"
      ]
     },
     "execution_count": 9,
     "metadata": {},
     "output_type": "execute_result"
    },
    {
     "data": {
      "image/png": "[encoded data removed]",
      "text/plain": [
       "<Figure size 432x288 with 1 Axes>"
      ]
     },
     "metadata": {},
     "output_type": "display_data"
    }
   ],
   "source": [
    "Text_Time_Sentiment['Created at'].plot(linewidth=0.5)"
   ]
  },
  {
   "cell_type": "code",
   "execution_count": 10,
   "metadata": {},
   "outputs": [
    {
     "data": {
      "text/html": [
       "<div>\n",
       "<style scoped>\n",
       "    .dataframe tbody tr th:only-of-type {\n",
       "        vertical-align: middle;\n",
       "    }\n",
       "\n",
       "    .dataframe tbody tr th {\n",
       "        vertical-align: top;\n",
       "    }\n",
       "\n",
       "    .dataframe thead th {\n",
       "        text-align: right;\n",
       "    }\n",
       "</style>\n",
       "<table border=\"1\" class=\"dataframe\">\n",
       "  <thead>\n",
       "    <tr style=\"text-align: right;\">\n",
       "      <th></th>\n",
       "      <th>Text</th>\n",
       "      <th>Sentiment</th>\n",
       "      <th>Created at</th>\n",
       "    </tr>\n",
       "  </thead>\n",
       "  <tbody>\n",
       "    <tr>\n",
       "      <th>0</th>\n",
       "      <td>RT @PastorJohnHagee: I encourage you to join m...</td>\n",
       "      <td>Neutral</td>\n",
       "      <td>2019-05-02 14:12:48</td>\n",
       "    </tr>\n",
       "    <tr>\n",
       "      <th>1</th>\n",
       "      <td>RT @PastorJohnHagee: I encourage you to join m...</td>\n",
       "      <td>Neutral</td>\n",
       "      <td>2019-05-02 14:12:45</td>\n",
       "    </tr>\n",
       "    <tr>\n",
       "      <th>2</th>\n",
       "      <td>RT @IdeaGov: History is watching. Right now.\\n...</td>\n",
       "      <td>Positive</td>\n",
       "      <td>2019-05-02 14:12:41</td>\n",
       "    </tr>\n",
       "    <tr>\n",
       "      <th>3</th>\n",
       "      <td>@DavidCornDC I am positive the #GOPhers would ...</td>\n",
       "      <td>Positive</td>\n",
       "      <td>2019-05-02 14:12:15</td>\n",
       "    </tr>\n",
       "    <tr>\n",
       "      <th>4</th>\n",
       "      <td>Apparently #Congress #Democrats now recognize ...</td>\n",
       "      <td>Positive</td>\n",
       "      <td>2019-05-02 14:12:13</td>\n",
       "    </tr>\n",
       "  </tbody>\n",
       "</table>\n",
       "</div>"
      ],
      "text/plain": [
       "                                                Text Sentiment  \\\n",
       "0  RT @PastorJohnHagee: I encourage you to join m...   Neutral   \n",
       "1  RT @PastorJohnHagee: I encourage you to join m...   Neutral   \n",
       "2  RT @IdeaGov: History is watching. Right now.\\n...  Positive   \n",
       "3  @DavidCornDC I am positive the #GOPhers would ...  Positive   \n",
       "4  Apparently #Congress #Democrats now recognize ...  Positive   \n",
       "\n",
       "           Created at  \n",
       "0 2019-05-02 14:12:48  \n",
       "1 2019-05-02 14:12:45  \n",
       "2 2019-05-02 14:12:41  \n",
       "3 2019-05-02 14:12:15  \n",
       "4 2019-05-02 14:12:13  "
      ]
     },
     "execution_count": 10,
     "metadata": {},
     "output_type": "execute_result"
    }
   ],
   "source": [
    "Text_Time_Sentiment.head()"
   ]
  },
  {
   "cell_type": "code",
   "execution_count": 11,
   "metadata": {},
   "outputs": [
    {
     "name": "stdout",
     "output_type": "stream",
     "text": [
      "10 10 10 10\n"
     ]
    }
   ],
   "source": [
    "dict = {}\n",
    "list_of_dates = []\n",
    "list_of_count = []\n",
    "count_of_positive = []\n",
    "count_of_negative = []\n",
    "\n",
    "for x in range(len(Text_Time_Sentiment)):\n",
    "    if Text_Time_Sentiment['Created at'][x].strftime('%d/%m/%y') not in list_of_dates:\n",
    "        list_of_dates.append(Text_Time_Sentiment['Created at'][x].strftime('%d/%m/%y'))\n",
    "        list_of_count.append(0)\n",
    "        count_of_negative.append(0)\n",
    "        count_of_positive.append(0)\n",
    "        \n",
    "    for z in range(len(list_of_count)):\n",
    "        if Text_Time_Sentiment['Created at'][x].strftime('%d/%m/%y') == list_of_dates[z]:\n",
    "            list_of_count[z] = list_of_count[z] + 1\n",
    "            if Text_Time_Sentiment['Sentiment'][x] == 'Positive':\n",
    "                count_of_positive[z] = count_of_positive[z] + 1\n",
    "            elif Text_Time_Sentiment['Sentiment'][x] == 'Negative':\n",
    "                count_of_negative[z] = count_of_negative[z] + 1\n",
    "            \n",
    "dict = {\n",
    "        'Created at':list_of_dates,\n",
    "        'Count':list_of_count,\n",
    "        'Negative Tweets':count_of_negative,\n",
    "        'Positive Tweets':count_of_positive\n",
    "    }\n",
    "dict['Created at'] = pd.to_datetime(dict['Created at'])\n",
    "\n",
    "print(len(list_of_dates),len(list_of_count),len(count_of_negative),len(count_of_positive))\n",
    "    "
   ]
  },
  {
   "cell_type": "code",
   "execution_count": 12,
   "metadata": {},
   "outputs": [],
   "source": [
    "Dates_with_Count = pd.DataFrame(dict)"
   ]
  },
  {
   "cell_type": "code",
   "execution_count": 13,
   "metadata": {},
   "outputs": [
    {
     "data": {
      "text/html": [
       "<div>\n",
       "<style scoped>\n",
       "    .dataframe tbody tr th:only-of-type {\n",
       "        vertical-align: middle;\n",
       "    }\n",
       "\n",
       "    .dataframe tbody tr th {\n",
       "        vertical-align: top;\n",
       "    }\n",
       "\n",
       "    .dataframe thead th {\n",
       "        text-align: right;\n",
       "    }\n",
       "</style>\n",
       "<table border=\"1\" class=\"dataframe\">\n",
       "  <thead>\n",
       "    <tr style=\"text-align: right;\">\n",
       "      <th></th>\n",
       "      <th>Created at</th>\n",
       "      <th>Count</th>\n",
       "      <th>Negative Tweets</th>\n",
       "      <th>Positive Tweets</th>\n",
       "    </tr>\n",
       "  </thead>\n",
       "  <tbody>\n",
       "    <tr>\n",
       "      <th>0</th>\n",
       "      <td>2019-02-05</td>\n",
       "      <td>1729</td>\n",
       "      <td>409</td>\n",
       "      <td>706</td>\n",
       "    </tr>\n",
       "    <tr>\n",
       "      <th>1</th>\n",
       "      <td>2019-01-05</td>\n",
       "      <td>2621</td>\n",
       "      <td>596</td>\n",
       "      <td>953</td>\n",
       "    </tr>\n",
       "    <tr>\n",
       "      <th>2</th>\n",
       "      <td>2019-04-30</td>\n",
       "      <td>2258</td>\n",
       "      <td>381</td>\n",
       "      <td>735</td>\n",
       "    </tr>\n",
       "    <tr>\n",
       "      <th>3</th>\n",
       "      <td>2019-04-29</td>\n",
       "      <td>2478</td>\n",
       "      <td>395</td>\n",
       "      <td>735</td>\n",
       "    </tr>\n",
       "    <tr>\n",
       "      <th>4</th>\n",
       "      <td>2019-04-28</td>\n",
       "      <td>2387</td>\n",
       "      <td>402</td>\n",
       "      <td>613</td>\n",
       "    </tr>\n",
       "  </tbody>\n",
       "</table>\n",
       "</div>"
      ],
      "text/plain": [
       "  Created at  Count  Negative Tweets  Positive Tweets\n",
       "0 2019-02-05   1729              409              706\n",
       "1 2019-01-05   2621              596              953\n",
       "2 2019-04-30   2258              381              735\n",
       "3 2019-04-29   2478              395              735\n",
       "4 2019-04-28   2387              402              613"
      ]
     },
     "execution_count": 13,
     "metadata": {},
     "output_type": "execute_result"
    }
   ],
   "source": [
    "Dates_with_Count.head()"
   ]
  },
  {
   "cell_type": "code",
   "execution_count": 14,
   "metadata": {},
   "outputs": [
    {
     "data": {
      "text/plain": [
       "Text(0.5, 1.0, 'Time Series Analysis of Sentiment')"
      ]
     },
     "execution_count": 14,
     "metadata": {},
     "output_type": "execute_result"
    },
    {
     "data": {
      "image/png": "[encoded data removed]",
      "text/plain": [
       "<Figure size 432x288 with 1 Axes>"
      ]
     },
     "metadata": {},
     "output_type": "display_data"
    }
   ],
   "source": [
    "cols_plot = ['Count','Negative Tweets','Positive Tweets']\n",
    "axes = Dates_with_Count[cols_plot].plot()\n",
    "axes.set_ylabel('Frequency of Tweets')\n",
    "axes.set_title('Time Series Analysis of Sentiment')"
   ]
  },
  {
   "cell_type": "code",
   "execution_count": null,
   "metadata": {},
   "outputs": [],
   "source": []
  }
 ],
 "metadata": {
  "kernelspec": {
   "display_name": "Python 3",
   "language": "python",
   "name": "python3"
  },
  "language_info": {
   "codemirror_mode": {
    "name": "ipython",
    "version": 3
   },
   "file_extension": ".py",
   "mimetype": "text/x-python",
   "name": "python",
   "nbconvert_exporter": "python",
   "pygments_lexer": "ipython3",
   "version": "3.7.1"
  }
 },
 "nbformat": 4,
 "nbformat_minor": 2
}
