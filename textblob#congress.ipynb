{
 "cells": [
  {
   "cell_type": "code",
   "execution_count": 1,
   "metadata": {},
   "outputs": [],
   "source": [
    "from textblob import TextBlob\n",
    "import pandas as pd\n",
    "import matplotlib.mlab as mlab\n",
    "import matplotlib.pyplot as plt\n",
    "import numpy as np\n",
    "%matplotlib inline"
   ]
  },
  {
   "cell_type": "code",
   "execution_count": 2,
   "metadata": {},
   "outputs": [],
   "source": [
    "df = pd.read_json(r'C:\\Users\\Usman\\Desktop\\Project\\congress.json',lines=True)"
   ]
  },
  {
   "cell_type": "code",
   "execution_count": 3,
   "metadata": {},
   "outputs": [],
   "source": [
    "text = []\n",
    "\n",
    "for x in df['full_text']:\n",
    "    text.append(x)"
   ]
  },
  {
   "cell_type": "code",
   "execution_count": 4,
   "metadata": {},
   "outputs": [],
   "source": [
    "sentiment = []\n",
    "pos_tweet = 0\n",
    "neg_tweet = 0\n",
    "neu_tweet = 0\n",
    "for x in text:\n",
    "    blob = TextBlob(x)\n",
    "    pol = blob.sentiment.polarity\n",
    "    if pol < 0:\n",
    "        sentiment.append('Negative')\n",
    "        neg_tweet = neg_tweet + 1\n",
    "    elif pol == 0:\n",
    "        sentiment.append('Neutral')\n",
    "        neu_tweet = neu_tweet + 1\n",
    "    else:\n",
    "        sentiment.append('Positive')\n",
    "        pos_tweet = pos_tweet + 1\n",
    "        \n",
    "abc = pd.DataFrame(sentiment,text)"
   ]
  },
  {
   "cell_type": "code",
   "execution_count": 5,
   "metadata": {},
   "outputs": [
    {
     "data": {
      "text/html": [
       "<div>\n",
       "<style scoped>\n",
       "    .dataframe tbody tr th:only-of-type {\n",
       "        vertical-align: middle;\n",
       "    }\n",
       "\n",
       "    .dataframe tbody tr th {\n",
       "        vertical-align: top;\n",
       "    }\n",
       "\n",
       "    .dataframe thead th {\n",
       "        text-align: right;\n",
       "    }\n",
       "</style>\n",
       "<table border=\"1\" class=\"dataframe\">\n",
       "  <thead>\n",
       "    <tr style=\"text-align: right;\">\n",
       "      <th></th>\n",
       "      <th>0</th>\n",
       "    </tr>\n",
       "  </thead>\n",
       "  <tbody>\n",
       "    <tr>\n",
       "      <th>RT @PastorJohnHagee: I encourage you to join me and Christians across America in praying for our nation today.\\n\\n#NationalDayOfPrayer #Pray…</th>\n",
       "      <td>Neutral</td>\n",
       "    </tr>\n",
       "    <tr>\n",
       "      <th>RT @PastorJohnHagee: I encourage you to join me and Christians across America in praying for our nation today.\\n\\n#NationalDayOfPrayer #Pray…</th>\n",
       "      <td>Neutral</td>\n",
       "    </tr>\n",
       "    <tr>\n",
       "      <th>RT @IdeaGov: History is watching. Right now.\\nBy law + practice, #Congress has the legal right to #arrest those in Contempt of Congress. \\nFu…</th>\n",
       "      <td>Positive</td>\n",
       "    </tr>\n",
       "    <tr>\n",
       "      <th>@DavidCornDC I am positive the #GOPhers would B just as #obstructive if D #RealPOSTUS45 were sitting N D #WhiteHouse . It is time2admit it  #GOPComplicit members of #Congress do not believe N #LawOrJustice. They govern w/hate &amp;amp; oppose #WeThePeople . #Oppresion w/ no #FreedomOfSpeech = #next https://t.co/iTOBfW833d</th>\n",
       "      <td>Positive</td>\n",
       "    </tr>\n",
       "    <tr>\n",
       "      <th>Apparently #Congress #Democrats now recognize their arrogant/silly continuation will be shown on tape for #election2020 commercials, decided best that staff Gofers who get them soup at lunchtime will appear to ask the questions. \\n@TuckerCarlson https://t.co/P5tt8CCc6P</th>\n",
       "      <td>Positive</td>\n",
       "    </tr>\n",
       "  </tbody>\n",
       "</table>\n",
       "</div>"
      ],
      "text/plain": [
       "                                                           0\n",
       "RT @PastorJohnHagee: I encourage you to join me...   Neutral\n",
       "RT @PastorJohnHagee: I encourage you to join me...   Neutral\n",
       "RT @IdeaGov: History is watching. Right now.\\nB...  Positive\n",
       "@DavidCornDC I am positive the #GOPhers would B...  Positive\n",
       "Apparently #Congress #Democrats now recognize t...  Positive"
      ]
     },
     "execution_count": 5,
     "metadata": {},
     "output_type": "execute_result"
    }
   ],
   "source": [
    "abc.head()"
   ]
  },
  {
   "cell_type": "code",
   "execution_count": 6,
   "metadata": {},
   "outputs": [
    {
     "data": {
      "image/png": "[encoded data removed]",
      "text/plain": [
       "<Figure size 432x288 with 1 Axes>"
      ]
     },
     "metadata": {
      "needs_background": "light"
     },
     "output_type": "display_data"
    }
   ],
   "source": [
    "objects = ('Positive','Negative','Neutral')\n",
    "y_pos = np.arange(len(objects))\n",
    "performance = [pos_tweet,neg_tweet,neu_tweet]\n",
    "\n",
    "plt.bar(y_pos, performance, align='center', alpha=0.5)\n",
    "plt.xticks(y_pos, objects)\n",
    "plt.ylabel('frequency of Tweets')\n",
    "plt.title('Congress')\n",
    "\n",
    "plt.show()"
   ]
  }
 ],
 "metadata": {
  "kernelspec": {
   "display_name": "Python 3",
   "language": "python",
   "name": "python3"
  },
  "language_info": {
   "codemirror_mode": {
    "name": "ipython",
    "version": 3
   },
   "file_extension": ".py",
   "mimetype": "text/x-python",
   "name": "python",
   "nbconvert_exporter": "python",
   "pygments_lexer": "ipython3",
   "version": "3.7.1"
  }
 },
 "nbformat": 4,
 "nbformat_minor": 2
}
