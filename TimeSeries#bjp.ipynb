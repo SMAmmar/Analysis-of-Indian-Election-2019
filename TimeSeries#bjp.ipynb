{
 "cells": [
  {
   "cell_type": "code",
   "execution_count": 1,
   "metadata": {},
   "outputs": [],
   "source": [
    "import sys\n",
    "import json\n",
    "from datetime import datetime\n",
    "import matplotlib.pyplot as plt\n",
    "import matplotlib.dates as mdates\n",
    "import pandas as pd\n",
    "import numpy as np\n",
    "import pickle\n",
    "from pandas.plotting import register_matplotlib_converters\n",
    "register_matplotlib_converters()\n",
    "from textblob import TextBlob\n",
    "import seaborn as sns\n",
    "sns.set(rc={'figure.figsize':(11, 4)})"
   ]
  },
  {
   "cell_type": "code",
   "execution_count": 2,
   "metadata": {},
   "outputs": [],
   "source": [
    "import warnings\n",
    "import itertools\n",
    "import numpy as np\n",
    "import matplotlib.pyplot as plt\n",
    "warnings.filterwarnings(\"ignore\")\n",
    "plt.style.use('fivethirtyeight')\n",
    "import pandas as pd\n",
    "import statsmodels.api as sm\n",
    "import matplotlib\n",
    "matplotlib.rcParams['axes.labelsize'] = 14\n",
    "matplotlib.rcParams['xtick.labelsize'] = 12\n",
    "matplotlib.rcParams['ytick.labelsize'] = 12\n",
    "matplotlib.rcParams['text.color'] = 'k'"
   ]
  },
  {
   "cell_type": "code",
   "execution_count": 3,
   "metadata": {},
   "outputs": [],
   "source": [
    "df = pd.read_json(r'C:\\Users\\Usman\\Desktop\\Project\\bjp.json', lines=True)"
   ]
  },
  {
   "cell_type": "code",
   "execution_count": 4,
   "metadata": {},
   "outputs": [],
   "source": [
    "text = []\n",
    "\n",
    "for x in df['full_text']:\n",
    "    text.append(x)\n",
    "    \n",
    "time = []\n",
    "\n",
    "for x in df['created_at']:\n",
    "    time.append(x)"
   ]
  },
  {
   "cell_type": "code",
   "execution_count": 5,
   "metadata": {},
   "outputs": [],
   "source": [
    "sentiment = []\n",
    "pos_tweet = 0\n",
    "neg_tweet = 0\n",
    "neu_tweet = 0\n",
    "for x in text:\n",
    "    blob = TextBlob(x)\n",
    "    pol = blob.sentiment.polarity\n",
    "    if pol < 0:\n",
    "        sentiment.append('Negative')\n",
    "        neg_tweet = neg_tweet + 1\n",
    "    elif pol == 0:\n",
    "        sentiment.append('Neutral')\n",
    "        neu_tweet = neu_tweet + 1\n",
    "    else:\n",
    "        sentiment.append('Positive')\n",
    "        pos_tweet = pos_tweet + 1\n",
    "        "
   ]
  },
  {
   "cell_type": "code",
   "execution_count": 6,
   "metadata": {},
   "outputs": [],
   "source": [
    "data = {'Text': text, \n",
    "        'Sentiment': sentiment,\n",
    "        'Created at': pd.to_datetime(time)}\n",
    "        \n",
    "Text_Time_Sentiment = pd.DataFrame(data)\n",
    "Text_Time_Sentiment['Created at'] = pd.to_datetime(Text_Time_Sentiment['Created at'])"
   ]
  },
  {
   "cell_type": "code",
   "execution_count": 7,
   "metadata": {},
   "outputs": [
    {
     "data": {
      "text/html": [
       "<div>\n",
       "<style scoped>\n",
       "    .dataframe tbody tr th:only-of-type {\n",
       "        vertical-align: middle;\n",
       "    }\n",
       "\n",
       "    .dataframe tbody tr th {\n",
       "        vertical-align: top;\n",
       "    }\n",
       "\n",
       "    .dataframe thead th {\n",
       "        text-align: right;\n",
       "    }\n",
       "</style>\n",
       "<table border=\"1\" class=\"dataframe\">\n",
       "  <thead>\n",
       "    <tr style=\"text-align: right;\">\n",
       "      <th></th>\n",
       "      <th>Text</th>\n",
       "      <th>Sentiment</th>\n",
       "      <th>Created at</th>\n",
       "    </tr>\n",
       "  </thead>\n",
       "  <tbody>\n",
       "    <tr>\n",
       "      <th>0</th>\n",
       "      <td>It's always better to give ticket to popular f...</td>\n",
       "      <td>Positive</td>\n",
       "      <td>2019-05-04 11:02:28</td>\n",
       "    </tr>\n",
       "    <tr>\n",
       "      <th>1</th>\n",
       "      <td>RT @Aagan86: Manjul Krishna Thakur, father of ...</td>\n",
       "      <td>Neutral</td>\n",
       "      <td>2019-05-04 11:02:27</td>\n",
       "    </tr>\n",
       "    <tr>\n",
       "      <th>2</th>\n",
       "      <td>Congress helping #BJP by dividing secular vote...</td>\n",
       "      <td>Neutral</td>\n",
       "      <td>2019-05-04 10:58:22</td>\n",
       "    </tr>\n",
       "    <tr>\n",
       "      <th>3</th>\n",
       "      <td>RT @abpnewstv: #BJP 'imported' Hans Raj Hans a...</td>\n",
       "      <td>Neutral</td>\n",
       "      <td>2019-05-04 10:58:21</td>\n",
       "    </tr>\n",
       "    <tr>\n",
       "      <th>4</th>\n",
       "      <td>#BIGNEWS: #BJP President @AmitShah says the ma...</td>\n",
       "      <td>Positive</td>\n",
       "      <td>2019-05-04 10:58:19</td>\n",
       "    </tr>\n",
       "  </tbody>\n",
       "</table>\n",
       "</div>"
      ],
      "text/plain": [
       "                                                Text Sentiment  \\\n",
       "0  It's always better to give ticket to popular f...  Positive   \n",
       "1  RT @Aagan86: Manjul Krishna Thakur, father of ...   Neutral   \n",
       "2  Congress helping #BJP by dividing secular vote...   Neutral   \n",
       "3  RT @abpnewstv: #BJP 'imported' Hans Raj Hans a...   Neutral   \n",
       "4  #BIGNEWS: #BJP President @AmitShah says the ma...  Positive   \n",
       "\n",
       "           Created at  \n",
       "0 2019-05-04 11:02:28  \n",
       "1 2019-05-04 11:02:27  \n",
       "2 2019-05-04 10:58:22  \n",
       "3 2019-05-04 10:58:21  \n",
       "4 2019-05-04 10:58:19  "
      ]
     },
     "execution_count": 7,
     "metadata": {},
     "output_type": "execute_result"
    }
   ],
   "source": [
    "Text_Time_Sentiment.head()"
   ]
  },
  {
   "cell_type": "code",
   "execution_count": 8,
   "metadata": {},
   "outputs": [
    {
     "data": {
      "text/plain": [
       "0    04\n",
       "1    04\n",
       "2    04\n",
       "3    04\n",
       "4    04\n",
       "Name: Created at, dtype: object"
      ]
     },
     "execution_count": 8,
     "metadata": {},
     "output_type": "execute_result"
    }
   ],
   "source": [
    "Text_Time_Sentiment['Created at'].dt.strftime('%d')[:5]"
   ]
  },
  {
   "cell_type": "code",
   "execution_count": 9,
   "metadata": {},
   "outputs": [
    {
     "data": {
      "text/plain": [
       "<matplotlib.axes._subplots.AxesSubplot at 0x8133828>"
      ]
     },
     "execution_count": 9,
     "metadata": {},
     "output_type": "execute_result"
    },
    {
     "data": {
      "image/png": "[encoded data removed]",
      "text/plain": [
       "<Figure size 432x288 with 1 Axes>"
      ]
     },
     "metadata": {},
     "output_type": "display_data"
    }
   ],
   "source": [
    "Text_Time_Sentiment['Created at'].plot(linewidth=0.5)"
   ]
  },
  {
   "cell_type": "code",
   "execution_count": 10,
   "metadata": {},
   "outputs": [
    {
     "data": {
      "text/html": [
       "<div>\n",
       "<style scoped>\n",
       "    .dataframe tbody tr th:only-of-type {\n",
       "        vertical-align: middle;\n",
       "    }\n",
       "\n",
       "    .dataframe tbody tr th {\n",
       "        vertical-align: top;\n",
       "    }\n",
       "\n",
       "    .dataframe thead th {\n",
       "        text-align: right;\n",
       "    }\n",
       "</style>\n",
       "<table border=\"1\" class=\"dataframe\">\n",
       "  <thead>\n",
       "    <tr style=\"text-align: right;\">\n",
       "      <th></th>\n",
       "      <th>Text</th>\n",
       "      <th>Sentiment</th>\n",
       "      <th>Created at</th>\n",
       "    </tr>\n",
       "  </thead>\n",
       "  <tbody>\n",
       "    <tr>\n",
       "      <th>0</th>\n",
       "      <td>It's always better to give ticket to popular f...</td>\n",
       "      <td>Positive</td>\n",
       "      <td>2019-05-04 11:02:28</td>\n",
       "    </tr>\n",
       "    <tr>\n",
       "      <th>1</th>\n",
       "      <td>RT @Aagan86: Manjul Krishna Thakur, father of ...</td>\n",
       "      <td>Neutral</td>\n",
       "      <td>2019-05-04 11:02:27</td>\n",
       "    </tr>\n",
       "    <tr>\n",
       "      <th>2</th>\n",
       "      <td>Congress helping #BJP by dividing secular vote...</td>\n",
       "      <td>Neutral</td>\n",
       "      <td>2019-05-04 10:58:22</td>\n",
       "    </tr>\n",
       "    <tr>\n",
       "      <th>3</th>\n",
       "      <td>RT @abpnewstv: #BJP 'imported' Hans Raj Hans a...</td>\n",
       "      <td>Neutral</td>\n",
       "      <td>2019-05-04 10:58:21</td>\n",
       "    </tr>\n",
       "    <tr>\n",
       "      <th>4</th>\n",
       "      <td>#BIGNEWS: #BJP President @AmitShah says the ma...</td>\n",
       "      <td>Positive</td>\n",
       "      <td>2019-05-04 10:58:19</td>\n",
       "    </tr>\n",
       "  </tbody>\n",
       "</table>\n",
       "</div>"
      ],
      "text/plain": [
       "                                                Text Sentiment  \\\n",
       "0  It's always better to give ticket to popular f...  Positive   \n",
       "1  RT @Aagan86: Manjul Krishna Thakur, father of ...   Neutral   \n",
       "2  Congress helping #BJP by dividing secular vote...   Neutral   \n",
       "3  RT @abpnewstv: #BJP 'imported' Hans Raj Hans a...   Neutral   \n",
       "4  #BIGNEWS: #BJP President @AmitShah says the ma...  Positive   \n",
       "\n",
       "           Created at  \n",
       "0 2019-05-04 11:02:28  \n",
       "1 2019-05-04 11:02:27  \n",
       "2 2019-05-04 10:58:22  \n",
       "3 2019-05-04 10:58:21  \n",
       "4 2019-05-04 10:58:19  "
      ]
     },
     "execution_count": 10,
     "metadata": {},
     "output_type": "execute_result"
    }
   ],
   "source": [
    "Text_Time_Sentiment.head()"
   ]
  },
  {
   "cell_type": "code",
   "execution_count": 11,
   "metadata": {},
   "outputs": [
    {
     "name": "stdout",
     "output_type": "stream",
     "text": [
      "10 10 10 10\n"
     ]
    }
   ],
   "source": [
    "dict = {}\n",
    "list_of_dates = []\n",
    "list_of_count = []\n",
    "count_of_positive = []\n",
    "count_of_negative = []\n",
    "\n",
    "for x in range(len(Text_Time_Sentiment)):\n",
    "    if Text_Time_Sentiment['Created at'][x].strftime('%d/%m/%y') not in list_of_dates:\n",
    "        list_of_dates.append(Text_Time_Sentiment['Created at'][x].strftime('%d/%m/%y'))\n",
    "        list_of_count.append(0)\n",
    "        count_of_negative.append(0)\n",
    "        count_of_positive.append(0)\n",
    "        \n",
    "    for z in range(len(list_of_count)):\n",
    "        if Text_Time_Sentiment['Created at'][x].strftime('%d/%m/%y') == list_of_dates[z]:\n",
    "            list_of_count[z] = list_of_count[z] + 1\n",
    "            if Text_Time_Sentiment['Sentiment'][x] == 'Positive':\n",
    "                count_of_positive[z] = count_of_positive[z] + 1\n",
    "            elif Text_Time_Sentiment['Sentiment'][x] == 'Negative':\n",
    "                count_of_negative[z] = count_of_negative[z] + 1\n",
    "            \n",
    "dict = {\n",
    "        'Created at':list_of_dates,\n",
    "        'Count':list_of_count,\n",
    "        'Negative Tweets':count_of_negative,\n",
    "        'Positive Tweets':count_of_positive\n",
    "    }\n",
    "dict['Created at'] = pd.to_datetime(dict['Created at'])\n",
    "\n",
    "print(len(list_of_dates),len(list_of_count),len(count_of_negative),len(count_of_positive))\n",
    "    "
   ]
  },
  {
   "cell_type": "code",
   "execution_count": 12,
   "metadata": {},
   "outputs": [],
   "source": [
    "Dates_with_Count = pd.DataFrame(dict)"
   ]
  },
  {
   "cell_type": "code",
   "execution_count": 13,
   "metadata": {},
   "outputs": [
    {
     "data": {
      "text/html": [
       "<div>\n",
       "<style scoped>\n",
       "    .dataframe tbody tr th:only-of-type {\n",
       "        vertical-align: middle;\n",
       "    }\n",
       "\n",
       "    .dataframe tbody tr th {\n",
       "        vertical-align: top;\n",
       "    }\n",
       "\n",
       "    .dataframe thead th {\n",
       "        text-align: right;\n",
       "    }\n",
       "</style>\n",
       "<table border=\"1\" class=\"dataframe\">\n",
       "  <thead>\n",
       "    <tr style=\"text-align: right;\">\n",
       "      <th></th>\n",
       "      <th>Created at</th>\n",
       "      <th>Count</th>\n",
       "      <th>Negative Tweets</th>\n",
       "      <th>Positive Tweets</th>\n",
       "    </tr>\n",
       "  </thead>\n",
       "  <tbody>\n",
       "    <tr>\n",
       "      <th>0</th>\n",
       "      <td>2019-04-05</td>\n",
       "      <td>651</td>\n",
       "      <td>107</td>\n",
       "      <td>186</td>\n",
       "    </tr>\n",
       "    <tr>\n",
       "      <th>1</th>\n",
       "      <td>2019-03-05</td>\n",
       "      <td>1791</td>\n",
       "      <td>301</td>\n",
       "      <td>680</td>\n",
       "    </tr>\n",
       "    <tr>\n",
       "      <th>2</th>\n",
       "      <td>2019-02-05</td>\n",
       "      <td>2332</td>\n",
       "      <td>271</td>\n",
       "      <td>1091</td>\n",
       "    </tr>\n",
       "    <tr>\n",
       "      <th>3</th>\n",
       "      <td>2019-01-05</td>\n",
       "      <td>3030</td>\n",
       "      <td>831</td>\n",
       "      <td>700</td>\n",
       "    </tr>\n",
       "    <tr>\n",
       "      <th>4</th>\n",
       "      <td>2019-04-30</td>\n",
       "      <td>3666</td>\n",
       "      <td>1538</td>\n",
       "      <td>1087</td>\n",
       "    </tr>\n",
       "  </tbody>\n",
       "</table>\n",
       "</div>"
      ],
      "text/plain": [
       "  Created at  Count  Negative Tweets  Positive Tweets\n",
       "0 2019-04-05    651              107              186\n",
       "1 2019-03-05   1791              301              680\n",
       "2 2019-02-05   2332              271             1091\n",
       "3 2019-01-05   3030              831              700\n",
       "4 2019-04-30   3666             1538             1087"
      ]
     },
     "execution_count": 13,
     "metadata": {},
     "output_type": "execute_result"
    }
   ],
   "source": [
    "Dates_with_Count.head()"
   ]
  },
  {
   "cell_type": "code",
   "execution_count": 14,
   "metadata": {},
   "outputs": [
    {
     "data": {
      "text/plain": [
       "Text(0.5, 1.0, 'Time Series Analysis of Sentiment')"
      ]
     },
     "execution_count": 14,
     "metadata": {},
     "output_type": "execute_result"
    },
    {
     "data": {
      "image/png": "[encoded data removed]",
      "text/plain": [
       "<Figure size 432x288 with 1 Axes>"
      ]
     },
     "metadata": {},
     "output_type": "display_data"
    }
   ],
   "source": [
    "cols_plot = ['Count','Negative Tweets','Positive Tweets']\n",
    "axes = Dates_with_Count[cols_plot].plot()\n",
    "axes.set_ylabel('Frequency of Tweets')\n",
    "axes.set_title('Time Series Analysis of Sentiment')"
   ]
  },
  {
   "cell_type": "code",
   "execution_count": null,
   "metadata": {},
   "outputs": [],
   "source": []
  }
 ],
 "metadata": {
  "kernelspec": {
   "display_name": "Python 3",
   "language": "python",
   "name": "python3"
  },
  "language_info": {
   "codemirror_mode": {
    "name": "ipython",
    "version": 3
   },
   "file_extension": ".py",
   "mimetype": "text/x-python",
   "name": "python",
   "nbconvert_exporter": "python",
   "pygments_lexer": "ipython3",
   "version": "3.7.1"
  }
 },
 "nbformat": 4,
 "nbformat_minor": 2
}
